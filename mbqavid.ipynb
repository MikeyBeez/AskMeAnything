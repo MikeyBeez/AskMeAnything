{
 "cells": [
  {
   "cell_type": "code",
   "execution_count": 1,
   "id": "8e6c0d05-f678-4933-980c-f3216ed324a0",
   "metadata": {},
   "outputs": [
    {
     "name": "stderr",
     "output_type": "stream",
     "text": [
      "/home/bard/miniconda3/envs/Julie-Julie/lib/python3.6/site-packages/IPython/html.py:14: ShimWarning: The `IPython.html` package has been deprecated since IPython 4.0. You should import from `notebook` instead. `IPython.html.widgets` has moved to `ipywidgets`.\n",
      "  \"`IPython.html.widgets` has moved to `ipywidgets`.\", ShimWarning)\n"
     ]
    }
   ],
   "source": [
    "import numpy as np\n",
    "import requests\n",
    "import html2text\n",
    "from googlesearch import search\n",
    "import json\n",
    "import re\n",
    "from simpletransformers.question_answering import QuestionAnsweringModel\n",
    "from IPython.display import display\n",
    "from IPython.html import widgets\n",
    "from bs4 import BeautifulSoup\n",
    "from markdown import markdown"
   ]
  },
  {
   "cell_type": "code",
   "execution_count": 2,
   "id": "ab9b7904-a473-4fed-aae6-7da8f969851b",
   "metadata": {},
   "outputs": [],
   "source": [
    "model = QuestionAnsweringModel('distilbert', 'distilbert-base-uncased-distilled-squad')"
   ]
  },
  {
   "cell_type": "code",
   "execution_count": 8,
   "id": "d30d0437-838f-4e34-98c9-f0a685acbb34",
   "metadata": {},
   "outputs": [],
   "source": [
    "question_data = {\n",
    "    'qas': \n",
    "    [{'question': 'What color is the sky',\n",
    "       'id': 0,\n",
    "        'answers': [{'text': ' ', 'answer_start': 0}],\n",
    "        'is_impossible': False}],\n",
    "        'context': 'the sky is blue'\n",
    "    }"
   ]
  },
  {
   "cell_type": "code",
   "execution_count": 10,
   "id": "bcd1bc6e-ec78-4810-b9ed-d0eeb95d8ede",
   "metadata": {},
   "outputs": [
    {
     "data": {
      "text/plain": [
       "{'qas': [{'question': 'What color is the sky',\n",
       "   'id': 0,\n",
       "   'answers': [{'text': ' ', 'answer_start': 0}],\n",
       "   'is_impossible': False}],\n",
       " 'context': 'the sky is blue'}"
      ]
     },
     "execution_count": 10,
     "metadata": {},
     "output_type": "execute_result"
    }
   ],
   "source": [
    "question_data"
   ]
  },
  {
   "cell_type": "code",
   "execution_count": 12,
   "id": "a431f4b2-8448-4d08-b521-0866d6831fcc",
   "metadata": {
    "tags": []
   },
   "outputs": [
    {
     "name": "stderr",
     "output_type": "stream",
     "text": [
      "convert squad examples to features: 100%|██████████| 1/1 [00:00<00:00, 1679.06it/s]\n",
      "add example index and unique id: 100%|██████████| 1/1 [00:00<00:00, 25420.02it/s]\n"
     ]
    },
    {
     "data": {
      "application/vnd.jupyter.widget-view+json": {
       "model_id": "26e1dc0ca1d047479dd9c1636c635afd",
       "version_major": 2,
       "version_minor": 0
      },
      "text/plain": [
       "Running Prediction:   0%|          | 0/1 [00:00<?, ?it/s]"
      ]
     },
     "metadata": {},
     "output_type": "display_data"
    }
   ],
   "source": [
    "prediction = model.predict([question_data])"
   ]
  },
  {
   "cell_type": "code",
   "execution_count": 13,
   "id": "d8673973-f983-406b-8c55-9b3664cd75a3",
   "metadata": {},
   "outputs": [
    {
     "name": "stdout",
     "output_type": "stream",
     "text": [
      "([{'id': 0, 'answer': ['the sky is blue', 'blue', 'sky is blue', 'the sky', 'is blue', 'sky', 'the', '', 'the sky is', 'sky is']}], [{'id': 0, 'probability': [0.6718919034393995, 0.2903915782771355, 0.025824106266482086, 0.009136212452780911, 0.0017607881690078252, 0.0003511495227819054, 0.0003260312949665356, 0.0002628223258765999, 5.322314582283977e-05, 2.0456269327398623e-06]}])\n"
     ]
    }
   ],
   "source": [
    "print(prediction)"
   ]
  },
  {
   "cell_type": "code",
   "execution_count": 16,
   "id": "55b97141-ad0c-488c-9005-653542fe3daf",
   "metadata": {},
   "outputs": [
    {
     "name": "stdin",
     "output_type": "stream",
     "text": [
      "{'qas': [{'question': 'What color is the sky', 'id': 0, 'answers': [{'text': ' ', 'answer_start': 0}], 'is_impossible': False}], 'context': 'the sky is blue'} When did Albert Einstein die?\n"
     ]
    },
    {
     "data": {
      "text/plain": [
       "'When did Albert Einstein die?'"
      ]
     },
     "execution_count": 16,
     "metadata": {},
     "output_type": "execute_result"
    }
   ],
   "source": [
    "input(question_data)"
   ]
  },
  {
   "cell_type": "code",
   "execution_count": 17,
   "id": "66c03603-fb87-432c-bdec-6e2fb891778e",
   "metadata": {},
   "outputs": [
    {
     "data": {
      "text/plain": [
       "{'qas': [{'question': 'What color is the sky',\n",
       "   'id': 0,\n",
       "   'answers': [{'text': ' ', 'answer_start': 0}],\n",
       "   'is_impossible': False}],\n",
       " 'context': 'the sky is blue'}"
      ]
     },
     "execution_count": 17,
     "metadata": {},
     "output_type": "execute_result"
    }
   ],
   "source": [
    "question_data\n"
   ]
  },
  {
   "cell_type": "code",
   "execution_count": 18,
   "id": "5017d267-8820-4e47-bcab-890831128358",
   "metadata": {},
   "outputs": [],
   "source": [
    "!export CUDA_VISIBLE_DEVICES=1,2"
   ]
  },
  {
   "cell_type": "code",
   "execution_count": 19,
   "id": "8fe6ea49-0b6e-4d74-9804-575c3077f94c",
   "metadata": {},
   "outputs": [
    {
     "name": "stdout",
     "output_type": "stream",
     "text": [
      "1,2\n"
     ]
    }
   ],
   "source": [
    "!echo $CUDA_VISIBLE_DEVICES"
   ]
  },
  {
   "cell_type": "code",
   "execution_count": 22,
   "id": "e08b6505-cb28-4b26-accd-659e989ad762",
   "metadata": {},
   "outputs": [
    {
     "name": "stderr",
     "output_type": "stream",
     "text": [
      "convert squad examples to features: 100%|██████████| 1/1 [00:00<00:00, 1136.67it/s]\n",
      "add example index and unique id: 100%|██████████| 1/1 [00:00<00:00, 24528.09it/s]\n"
     ]
    },
    {
     "data": {
      "application/vnd.jupyter.widget-view+json": {
       "model_id": "d5eb5fbf444a45dd9d76be8d52b21a7f",
       "version_major": 2,
       "version_minor": 0
      },
      "text/plain": [
       "Running Prediction:   0%|          | 0/1 [00:00<?, ?it/s]"
      ]
     },
     "metadata": {},
     "output_type": "display_data"
    }
   ],
   "source": [
    "prediction = model.predict([question_data])"
   ]
  },
  {
   "cell_type": "code",
   "execution_count": 21,
   "id": "1a5086f2-8009-408b-9c12-cfdee7c33b91",
   "metadata": {},
   "outputs": [
    {
     "name": "stdout",
     "output_type": "stream",
     "text": [
      "([{'id': 0, 'answer': ['the sky is blue', 'blue', 'sky is blue', 'the sky', 'is blue', 'sky', 'the', '', 'the sky is', 'sky is']}], [{'id': 0, 'probability': [0.6718919034393995, 0.2903915782771355, 0.025824106266482086, 0.009136212452780911, 0.0017607881690078252, 0.0003511495227819054, 0.0003260312949665356, 0.0002628223258765999, 5.322314582283977e-05, 2.0456269327398623e-06]}])\n"
     ]
    }
   ],
   "source": [
    "print(prediction)\n"
   ]
  },
  {
   "cell_type": "code",
   "execution_count": 81,
   "id": "b2ebd478-d7fd-4f67-b0e6-8163d74a8378",
   "metadata": {},
   "outputs": [],
   "source": [
    "# Example\n",
    "\n",
    "# model = create_model()\n",
    "\n",
    "# print(predict_answer(model, 'what color is the bird?', 'the bird is red.'))\n",
    "\n",
    "question = 'What color is the sky?'\n",
    "links = list(search(question, num_results=2))\n",
    "req = requests.get(links[1])\n",
    "markdown_string = req.text\n",
    "context = 'sky is blue'\n",
    "contexts = []\n",
    "contexts.append(context)\n",
    "#pred = predict_answer(model, question, context)\n",
    "#print(pred)"
   ]
  },
  {
   "cell_type": "code",
   "execution_count": 82,
   "id": "05e36770-5fd9-44b4-80e4-9997cd0b6648",
   "metadata": {},
   "outputs": [
    {
     "data": {
      "text/plain": [
       "['https://www.universetoday.com/74020/what-color-is-the-sky/',\n",
       " 'https://spaceplace.nasa.gov/blue-sky/en/']"
      ]
     },
     "execution_count": 82,
     "metadata": {},
     "output_type": "execute_result"
    }
   ],
   "source": [
    "links\n",
    "#req.text\n",
    "#print(html2text.html2text(markdown_string)"
   ]
  },
  {
   "cell_type": "code",
   "execution_count": 84,
   "id": "294206ad-a6fb-4771-a9ee-7183cbe700f1",
   "metadata": {},
   "outputs": [
    {
     "name": "stdout",
     "output_type": "stream",
     "text": [
      "blue-sky\n",
      "\n",
      "[ ![Link to nasa.gov](/resources/homepage/nasa.png) ](https://www.nasa.gov)\n",
      "\n",
      "[ ![Link to science.nasa.gov.](/resources/homepage/nasa-science-logo-\n",
      "horizontal.png) ](https://science.nasa.gov) [ ![Image that reads Space Place\n",
      "and links to spaceplace.nasa.gov.](/resources/homepage/logo.png) ](/)\n",
      "\n",
      "[Vea en Español](/sp/blue-sky/)\n",
      "\n",
      "![Search button.](/resources/homepage/search-button.png)\n",
      "\n",
      "[![Illustration of Earth that links to the Space Place Earth\n",
      "menu.](/resources/homepage/nav_earth.png)Earth](/menu/earth) [![Illustration\n",
      "of the Sun that links to the Space Place Sun\n",
      "menu.](/resources/homepage/nav_sun.png)Sun](/menu/sun) [![Illustration of\n",
      "Saturn that links to the Space Place Solar System\n",
      "menu.](/resources/homepage/nav_solarsystem.png)Solar System](/menu/solar-\n",
      "system) [![Illustration of a galaxy that links to the Space Place Universe\n",
      "menu.](/resources/homepage/nav_space.png)Universe](/menu/space)\n",
      "[![Illustration of a spacecraft that links to the Space Place Science and Tech\n",
      "menu.](/resources/homepage/nav_science.png)Science and Tech](/menu/science-\n",
      "and-technology) [![Illustration of an apple that links to the Space Place\n",
      "Educators\n",
      "menu.](/resources/homepage/nav_educators.png)Educators](/menu/parents-and-\n",
      "educators)\n",
      "\n",
      "misr\n",
      "\n",
      "# Why Is the Sky Blue?\n",
      "\n",
      "**The Short Answer:**\n",
      "\n",
      "Sunlight reaches Earth's atmosphere and is scattered in all directions by all\n",
      "the gases and particles in the air. Blue light is scattered more than the\n",
      "other colors because it travels as shorter, smaller waves. This is why we see\n",
      "a blue sky most of the time.\n",
      "\n",
      "  \n",
      "\n",
      "Watch this video about why the sky is blue! Voiceover provided by NASA\n",
      "scientist Dr. Moogega Stricker.\n",
      "\n",
      "## It's easy to see that the sky is blue. Have you ever wondered why?\n",
      "\n",
      "A lot of other smart people have, too. And it took a long time to figure it\n",
      "out!\n",
      "\n",
      "![blue sky and clouds illustration](/review/blue-sky/bluesky.en.png)  \n",
      "  \n",
      "\n",
      "The light from the Sun looks white. But it is really made up of all the colors\n",
      "of the rainbow.\n",
      "\n",
      "![A prism separates white light into the colors of the rainbow.](/review/blue-\n",
      "sky/sky5.en.png)\n",
      "\n",
      "When white light shines through a prism, the light is separated into all its\n",
      "colors. A prism is a specially shaped crystal.\n",
      "\n",
      "If you visited [The Land of the Magic Windows](/magic-windows), you learned\n",
      "that the light you see is just one tiny bit of all the kinds of light energy\n",
      "beaming around the universe--and around you!\n",
      "\n",
      "Like energy passing through the ocean, light energy travels in waves, too.\n",
      "Some light travels in short, \"choppy\" waves. Other light travels in long, lazy\n",
      "waves. Blue light waves are shorter than red light waves.\n",
      "\n",
      "![Different colors of light have different wavelengths.](/review/blue-\n",
      "sky/sky4.en.png)\n",
      "\n",
      "All light travels in a straight line unless something gets in the way and does\n",
      "one of these things:--\n",
      "\n",
      "  * reflect it (like a mirror)\n",
      "\n",
      "  * bend it (like a prism)\n",
      "\n",
      "  * or scatter it (like _molecules_ of the gases in the atmosphere)\n",
      "\n",
      "  \n",
      "\n",
      "Sunlight reaches Earth's atmosphere and is **scattered** in all directions by\n",
      "all the gases and particles in the air. Blue light is scattered in all\n",
      "directions by the tiny molecules of air in Earth's atmosphere. Blue is\n",
      "scattered more than other colors because it travels as shorter, smaller waves.\n",
      "This is why we see a blue sky most of the time.\n",
      "\n",
      "![Atmosphere scatters blue light more than other colors.](/review/blue-\n",
      "sky/sky1.en.png)\n",
      "\n",
      "Closer to the horizon, the sky fades to a lighter blue or white. The sunlight\n",
      "reaching us from low in the sky has passed through even more air than the\n",
      "sunlight reaching us from overhead. As the sunlight has passed through all\n",
      "this air, the air molecules have **scattered** and **_re_ scattered** the blue\n",
      "light _many times_ in _many directions_.\n",
      "\n",
      "![Atmosphere scatters blue light more than other colors](/review/blue-\n",
      "sky/sky2.en.png)\n",
      "\n",
      "Also, the surface of Earth has **reflected** and **scattered** the light. All\n",
      "this scattering mixes the colors together again so we see more white and less\n",
      "blue.\n",
      "\n",
      "  \n",
      "  \n",
      "\n",
      "## What makes a red sunset?\n",
      "\n",
      "As the Sun gets lower in the sky, its light is passing through more of the\n",
      "atmosphere to reach you. Even more of the blue light is scattered, allowing\n",
      "the reds and yellows to pass straight through to your eyes.\n",
      "\n",
      "![Red sky at sunset](/review/blue-sky/sky3.en.png)\n",
      "\n",
      "![Red Sun at sunset.](/review/blue-sky/sky6.en.png)\n",
      "\n",
      "Sometimes the whole western sky seems to glow. The sky appears red because\n",
      "small particles of dust, pollution, or other aerosols also scatter blue light,\n",
      "leaving more purely red and yellow light to go through the atmosphere.\n",
      "\n",
      "  \n",
      "\n",
      "## Is the sky blue on other planets, too?\n",
      "\n",
      "It all depends on what’s in the atmosphere! For example, Mars has a very thin\n",
      "atmosphere made mostly of carbon dioxide and filled with fine dust particles.\n",
      "These fine particles scatter light differently than the gases and particles in\n",
      "Earth’s atmosphere.\n",
      "\n",
      "Photos from NASA’s rovers and landers on Mars have shown us that at sunset\n",
      "there is actually the opposite of what you’d experience on Earth. During the\n",
      "daytime, the Martian sky takes on an orange or reddish color. But as the Sun\n",
      "sets, the sky around the Sun begins to take on a blue-gray tone.\n",
      "\n",
      "![The orange-colored Martian sky during the daytime.](/review/blue-\n",
      "sky/martian-sky-daytime.en.jpg) ![The blue-tinted Martian sky at\n",
      "sunset.](/review/blue-sky/martian-sky-sunset.en.jpg)\n",
      "\n",
      "The top image shows the orange-colored Martian sky during the daytime and the\n",
      "bottom image shows the blue-tinted sky at sunset. Both images were captured by\n",
      "NASA’s Mars Pathfinder Lander. Credit: NASA/JPL\n",
      "\n",
      "  \n",
      "\n",
      "### Related Resources for Educators\n",
      "\n",
      "[Our World: Sunsets and\n",
      "Atmospheres](https://nasaeclips.arc.nasa.gov/video/ourworld/our-world-sunsets-\n",
      "and-atmosphere)\n",
      "\n",
      "article last updated April 21, 2020\n",
      "\n",
      "### Explore some more!\n",
      "\n",
      "[ ![Image of a hurricane.](/review/blue-sky/hurricane.en.jpg)\n",
      "\n",
      "How do hurricanes form?\n",
      "\n",
      "](/hurricanes) [ ![Illustration of a person below a streetlight in front of a\n",
      "pizza restaurant.](/review/blue-sky/gps.en.png)\n",
      "\n",
      "How does GPS work?\n",
      "\n",
      "](/gps-pizza) [ ![Image of a solar eclipse.](/review/blue-sky/solar-\n",
      "eclipse.en.png)\n",
      "\n",
      "What is a solar eclipse?\n",
      "\n",
      "](/eclipses)\n",
      "\n",
      "### If you liked this, you may like:\n",
      "\n",
      "[![Similar Item 1 : Tectonic Forces](/resources/icons/tectonics-\n",
      "snap.en.png)](/tectonics-snap) [Tectonic Forces](/tectonics-snap)\n",
      "\n",
      "[![Similar Item 1 : How Does GPS Work?](/resources/icons/gps-\n",
      "pizza.en.png)](/gps-pizza) [How Does GPS Work?](/gps-pizza)\n",
      "\n",
      "[![Similar Item 1 : All About Earth](/resources/icons/all-about-\n",
      "earth.en.png)](/all-about-earth) [All About Earth](/all-about-earth)\n",
      "\n",
      "[About Us](/about-us) [Privacy\n",
      "Policy](https://www.nasa.gov/about/highlights/HP_Privacy.html) [Image\n",
      "Use](/image-use) NASA Official: Kristen Erickson Program Manager: Heather\n",
      "Doyle [Contact NASA Space Place](spaceplace.nasa.gov) Last Updated: June 3rd,\n",
      "2021\n",
      "\n",
      "More Less\n",
      "\n",
      "### By Subject\n",
      "\n",
      "  * [Space](/menu/space)\n",
      "  * [Sun](/menu/sun)\n",
      "  * [Earth](/menu/earth)\n",
      "  * [Solar System](/menu/solar-system)\n",
      "  * [People & Technology](/menu/people-and-technology)\n",
      "  * [Parents & Educators](/menu/parents-and-educators)\n",
      "\n",
      "### By Type\n",
      "\n",
      "  * [Explore](/menu/explore)\n",
      "  * [Do](/menu/do)\n",
      "  * [Play](/menu/play)\n",
      "\n",
      "More Less\n",
      "\n",
      "### Explore some more!\n",
      "\n",
      "[ ![Image of a hurricane.](/review/blue-sky/hurricane.jpg)\n",
      "\n",
      "How do hurricanes form?\n",
      "\n",
      "](/hurricanes) [ ![Illustration of a person below a streetlight in front of a\n",
      "pizza restaurant.](/review/blue-sky/gps.png)\n",
      "\n",
      "How does GPS work?\n",
      "\n",
      "](/gps-pizza) [ ![Image of a solar eclipse.](/review/blue-sky/solar-\n",
      "eclipse.png)\n",
      "\n",
      "What is a solar eclipse?\n",
      "\n",
      "](/eclipses)\n",
      "\n",
      "\n"
     ]
    }
   ],
   "source": [
    "print(html2text.html2text(req.text))"
   ]
  },
  {
   "cell_type": "code",
   "execution_count": 69,
   "id": "57c9ef48-2b4c-4d91-9b65-d54da71cb0ab",
   "metadata": {},
   "outputs": [],
   "source": [
    "# Source: https://gist.github.com/lorey/eb15a7f3338f959a78cc3661fbc255fe\n",
    "def markdown_to_text(markdown_string):\n",
    "    \"\"\" Converts a markdown string to plaintext \"\"\"\n",
    "\n",
    "    # md -> html -> text since BeautifulSoup can extract text cleanly\n",
    "    html = markdown(markdown_string)\n",
    "\n",
    "    # remove code snippets\n",
    "    html = re.sub(r'<pre>(.*?)</pre>', ' ', html)\n",
    "    html = re.sub(r'<code>(.*?)</code >', ' ', html)\n",
    "\n",
    "    # extract text\n",
    "    soup = BeautifulSoup(html, \"html.parser\")\n",
    "    text = ''.join(soup.findAll(text=True))\n",
    "\n",
    "    return text\n",
    "\n",
    "def format_text(text):\n",
    "    text = markdown_to_text(text)\n",
    "    text = text.replace('\\n', ' ')\n",
    "#     text = re.sub(r'^https?:\\/\\/.*[\\r\\n]*', '', text, flags=re.MULTILINE)\n",
    "#     text = re.sub(r'^http?:\\/\\/.*[\\r\\n]*', '', text, flags=re.MULTILINE)\n",
    "    print(text)\n",
    "\n",
    "    return text"
   ]
  },
  {
   "cell_type": "code",
   "execution_count": 54,
   "id": "83c741c3-253b-450c-84db-655b53a945ad",
   "metadata": {},
   "outputs": [],
   "source": [
    "def predict_answer(model, question, contexts, seq_len=512, debug=False):\n",
    "    split_context = []\n",
    "    \n",
    "    if not isinstance(contexts, list):\n",
    "        contexts = [contexts]\n",
    "    \n",
    "    for context in contexts:\n",
    "        for i in range(0, len(context), seq_len):\n",
    "            split_context.append(context[i:i+seq_len])\n",
    "            \n",
    "    split_context = contexts\n",
    "    \n",
    "    f_data = []\n",
    "    \n",
    "    for i, c in enumerate(split_context):\n",
    "        f_data.append(\n",
    "            {'qas': \n",
    "              [{'question': question,\n",
    "               'id': i,\n",
    "               'answers': [{'text': ' ', 'answer_start': 0}],\n",
    "               'is_impossible': False}],\n",
    "              'context': c\n",
    "            })\n",
    "        \n",
    "    prediction = model.predict(f_data)\n",
    "    if debug:\n",
    "        print(prediction)\n",
    "    preds = [x['answer'].lower().strip() for x in prediction if x['answer'].strip() != '']\n",
    "    \n",
    "    return max(set(preds), key = preds.count)"
   ]
  },
  {
   "cell_type": "code",
   "execution_count": 36,
   "id": "90103dfc-d1d4-4725-8904-bc07b2777742",
   "metadata": {},
   "outputs": [],
   "source": [
    "def query_pages(query, n=5):\n",
    "    return list(search(query, num=n, stop=n, pause=2))\n",
    "\n",
    "def query_to_text(query, n=5):\n",
    "    html_conv = html2text.HTML2Text()\n",
    "    html_conv.ignore_links = True\n",
    "    html_conv.escape_all = True\n",
    "    \n",
    "    text = []\n",
    "    for link in query_pages(query, n):\n",
    "        req = requests.get(link)\n",
    "        text.append(html_conv.handle(req.text))\n",
    "        text[-1] = format_text(text[-1])\n",
    "        \n",
    "    return text"
   ]
  },
  {
   "cell_type": "code",
   "execution_count": 55,
   "id": "ce1c7e66-ccec-41a7-b46c-e9a5c9d36d5a",
   "metadata": {},
   "outputs": [
    {
     "ename": "TypeError",
     "evalue": "search() got an unexpected keyword argument 'num'",
     "output_type": "error",
     "traceback": [
      "\u001b[0;31m---------------------------------------------------------------------------\u001b[0m",
      "\u001b[0;31mTypeError\u001b[0m                                 Traceback (most recent call last)",
      "\u001b[0;32m<ipython-input-55-5a25057ef1ab>\u001b[0m in \u001b[0;36m<module>\u001b[0;34m\u001b[0m\n\u001b[1;32m      1\u001b[0m \u001b[0mquestion\u001b[0m \u001b[0;34m=\u001b[0m \u001b[0;34m'What color is blood?'\u001b[0m\u001b[0;34m\u001b[0m\u001b[0;34m\u001b[0m\u001b[0m\n\u001b[0;32m----> 2\u001b[0;31m \u001b[0mresult\u001b[0m \u001b[0;34m=\u001b[0m \u001b[0mquery_to_text\u001b[0m\u001b[0;34m(\u001b[0m\u001b[0mquestion\u001b[0m\u001b[0;34m,\u001b[0m \u001b[0mn\u001b[0m\u001b[0;34m=\u001b[0m\u001b[0;36m5\u001b[0m\u001b[0;34m)\u001b[0m\u001b[0;34m\u001b[0m\u001b[0;34m\u001b[0m\u001b[0m\n\u001b[0m\u001b[1;32m      3\u001b[0m \u001b[0mprint\u001b[0m\u001b[0;34m(\u001b[0m\u001b[0mresult\u001b[0m\u001b[0;34m)\u001b[0m\u001b[0;34m\u001b[0m\u001b[0;34m\u001b[0m\u001b[0m\n",
      "\u001b[0;32m<ipython-input-36-134dbe25066a>\u001b[0m in \u001b[0;36mquery_to_text\u001b[0;34m(query, n)\u001b[0m\n\u001b[1;32m      8\u001b[0m \u001b[0;34m\u001b[0m\u001b[0m\n\u001b[1;32m      9\u001b[0m     \u001b[0mtext\u001b[0m \u001b[0;34m=\u001b[0m \u001b[0;34m[\u001b[0m\u001b[0;34m]\u001b[0m\u001b[0;34m\u001b[0m\u001b[0;34m\u001b[0m\u001b[0m\n\u001b[0;32m---> 10\u001b[0;31m     \u001b[0;32mfor\u001b[0m \u001b[0mlink\u001b[0m \u001b[0;32min\u001b[0m \u001b[0mquery_pages\u001b[0m\u001b[0;34m(\u001b[0m\u001b[0mquery\u001b[0m\u001b[0;34m,\u001b[0m \u001b[0mn\u001b[0m\u001b[0;34m)\u001b[0m\u001b[0;34m:\u001b[0m\u001b[0;34m\u001b[0m\u001b[0;34m\u001b[0m\u001b[0m\n\u001b[0m\u001b[1;32m     11\u001b[0m         \u001b[0mreq\u001b[0m \u001b[0;34m=\u001b[0m \u001b[0mrequests\u001b[0m\u001b[0;34m.\u001b[0m\u001b[0mget\u001b[0m\u001b[0;34m(\u001b[0m\u001b[0mlink\u001b[0m\u001b[0;34m)\u001b[0m\u001b[0;34m\u001b[0m\u001b[0;34m\u001b[0m\u001b[0m\n\u001b[1;32m     12\u001b[0m         \u001b[0mtext\u001b[0m\u001b[0;34m.\u001b[0m\u001b[0mappend\u001b[0m\u001b[0;34m(\u001b[0m\u001b[0mhtml_conv\u001b[0m\u001b[0;34m.\u001b[0m\u001b[0mhandle\u001b[0m\u001b[0;34m(\u001b[0m\u001b[0mreq\u001b[0m\u001b[0;34m.\u001b[0m\u001b[0mtext\u001b[0m\u001b[0;34m)\u001b[0m\u001b[0;34m)\u001b[0m\u001b[0;34m\u001b[0m\u001b[0;34m\u001b[0m\u001b[0m\n",
      "\u001b[0;32m<ipython-input-36-134dbe25066a>\u001b[0m in \u001b[0;36mquery_pages\u001b[0;34m(query, n)\u001b[0m\n\u001b[1;32m      1\u001b[0m \u001b[0;32mdef\u001b[0m \u001b[0mquery_pages\u001b[0m\u001b[0;34m(\u001b[0m\u001b[0mquery\u001b[0m\u001b[0;34m,\u001b[0m \u001b[0mn\u001b[0m\u001b[0;34m=\u001b[0m\u001b[0;36m5\u001b[0m\u001b[0;34m)\u001b[0m\u001b[0;34m:\u001b[0m\u001b[0;34m\u001b[0m\u001b[0;34m\u001b[0m\u001b[0m\n\u001b[0;32m----> 2\u001b[0;31m     \u001b[0;32mreturn\u001b[0m \u001b[0mlist\u001b[0m\u001b[0;34m(\u001b[0m\u001b[0msearch\u001b[0m\u001b[0;34m(\u001b[0m\u001b[0mquery\u001b[0m\u001b[0;34m,\u001b[0m \u001b[0mnum\u001b[0m\u001b[0;34m=\u001b[0m\u001b[0mn\u001b[0m\u001b[0;34m,\u001b[0m \u001b[0mstop\u001b[0m\u001b[0;34m=\u001b[0m\u001b[0mn\u001b[0m\u001b[0;34m,\u001b[0m \u001b[0mpause\u001b[0m\u001b[0;34m=\u001b[0m\u001b[0;36m2\u001b[0m\u001b[0;34m)\u001b[0m\u001b[0;34m)\u001b[0m\u001b[0;34m\u001b[0m\u001b[0;34m\u001b[0m\u001b[0m\n\u001b[0m\u001b[1;32m      3\u001b[0m \u001b[0;34m\u001b[0m\u001b[0m\n\u001b[1;32m      4\u001b[0m \u001b[0;32mdef\u001b[0m \u001b[0mquery_to_text\u001b[0m\u001b[0;34m(\u001b[0m\u001b[0mquery\u001b[0m\u001b[0;34m,\u001b[0m \u001b[0mn\u001b[0m\u001b[0;34m=\u001b[0m\u001b[0;36m5\u001b[0m\u001b[0;34m)\u001b[0m\u001b[0;34m:\u001b[0m\u001b[0;34m\u001b[0m\u001b[0;34m\u001b[0m\u001b[0m\n\u001b[1;32m      5\u001b[0m     \u001b[0mhtml_conv\u001b[0m \u001b[0;34m=\u001b[0m \u001b[0mhtml2text\u001b[0m\u001b[0;34m.\u001b[0m\u001b[0mHTML2Text\u001b[0m\u001b[0;34m(\u001b[0m\u001b[0;34m)\u001b[0m\u001b[0;34m\u001b[0m\u001b[0;34m\u001b[0m\u001b[0m\n",
      "\u001b[0;31mTypeError\u001b[0m: search() got an unexpected keyword argument 'num'"
     ]
    }
   ],
   "source": [
    "question = 'What color is blood?'\n",
    "result = query_to_text(question, n=5)\n",
    "print(result)"
   ]
  },
  {
   "cell_type": "code",
   "execution_count": 56,
   "id": "0ed4e906-b364-4c26-a0e5-d256910f2bd6",
   "metadata": {},
   "outputs": [],
   "source": [
    "def q_to_a(model, question, n=2, debug=False):\n",
    "    context = query_to_text(question, n=n)\n",
    "    pred = predict_answer(model, question, context, debug=debug)\n",
    "    return pred\n"
   ]
  },
  {
   "cell_type": "code",
   "execution_count": null,
   "id": "a4adc884-b479-45ba-ba38-6417f0da73c3",
   "metadata": {},
   "outputs": [],
   "source": []
  },
  {
   "cell_type": "code",
   "execution_count": null,
   "id": "a3bd20e4-77ce-4720-afd8-5960d29ccebd",
   "metadata": {},
   "outputs": [],
   "source": [
    "question = 'What color is blood?'\n",
    "context = query_to_text(question, n=3)\n",
    "#pred = predict_answer(model, question, context)\n",
    "#print(pred)"
   ]
  }
 ],
 "metadata": {
  "kernelspec": {
   "display_name": "Python 3",
   "language": "python",
   "name": "python3"
  },
  "language_info": {
   "codemirror_mode": {
    "name": "ipython",
    "version": 3
   },
   "file_extension": ".py",
   "mimetype": "text/x-python",
   "name": "python",
   "nbconvert_exporter": "python",
   "pygments_lexer": "ipython3",
   "version": "3.6.13"
  }
 },
 "nbformat": 4,
 "nbformat_minor": 5
}
