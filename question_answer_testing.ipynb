{
 "cells": [
  {
   "cell_type": "code",
   "execution_count": 26,
   "metadata": {},
   "outputs": [],
   "source": [
    "import numpy as np\n",
    "import requests\n",
    "import html2text\n",
    "from googlesearch import search\n",
    "import json\n",
    "import re\n",
    "from simpletransformers.question_answering import QuestionAnsweringModel\n",
    "from IPython.display import display\n",
    "from IPython.html import widgets\n",
    "from bs4 import BeautifulSoup\n",
    "from markdown import markdown"
   ]
  },
  {
   "cell_type": "code",
   "execution_count": 27,
   "metadata": {},
   "outputs": [],
   "source": [
    "# Source: https://gist.github.com/lorey/eb15a7f3338f959a78cc3661fbc255fe\n",
    "def markdown_to_text(markdown_string):\n",
    "    \"\"\" Converts a markdown string to plaintext \"\"\"\n",
    "\n",
    "    # md -> html -> text since BeautifulSoup can extract text cleanly\n",
    "    html = markdown(markdown_string)\n",
    "\n",
    "    # remove code snippets\n",
    "    html = re.sub(r'<pre>(.*?)</pre>', ' ', html)\n",
    "    html = re.sub(r'<code>(.*?)</code >', ' ', html)\n",
    "\n",
    "    # extract text\n",
    "    soup = BeautifulSoup(html, \"html.parser\")\n",
    "    text = ''.join(soup.findAll(text=True))\n",
    "\n",
    "    return text\n",
    "\n",
    "def format_text(text):\n",
    "    text = markdown_to_text(text)\n",
    "    text = text.replace('\\n', ' ')\n",
    "#     text = re.sub(r'^https?:\\/\\/.*[\\r\\n]*', '', text, flags=re.MULTILINE)\n",
    "#     text = re.sub(r'^http?:\\/\\/.*[\\r\\n]*', '', text, flags=re.MULTILINE)\n",
    "    return text"
   ]
  },
  {
   "cell_type": "code",
   "execution_count": 28,
   "metadata": {},
   "outputs": [],
   "source": [
    "def query_pages(query, n=5):\n",
    "    return list(search(query, num=n, stop=n, pause=2))\n",
    "\n",
    "def query_to_text(query, n=5):\n",
    "    html_conv = html2text.HTML2Text()\n",
    "    html_conv.ignore_links = True\n",
    "    html_conv.escape_all = True\n",
    "    \n",
    "    text = []\n",
    "    for link in query_pages(query, n):\n",
    "        req = requests.get(link)\n",
    "        text.append(html_conv.handle(req.text))\n",
    "        text[-1] = format_text(text[-1])\n",
    "        \n",
    "    return text"
   ]
  },
  {
   "cell_type": "code",
   "execution_count": 29,
   "metadata": {},
   "outputs": [],
   "source": [
    "def create_model():\n",
    "     return QuestionAnsweringModel('distilbert', 'distilbert-base-uncased-distilled-squad')\n",
    "    \n",
    "def predict_answer(model, question, contexts, seq_len=512, debug=False):\n",
    "    split_context = []\n",
    "    \n",
    "    if not isinstance(contexts, list):\n",
    "        contexts = [contexts]\n",
    "    \n",
    "    for context in contexts:\n",
    "        for i in range(0, len(context), seq_len):\n",
    "            split_context.append(context[i:i+seq_len])\n",
    "            \n",
    "    split_context = contexts\n",
    "    \n",
    "    f_data = []\n",
    "    \n",
    "    for i, c in enumerate(split_context):\n",
    "        f_data.append(\n",
    "            {'qas': \n",
    "              [{'question': question,\n",
    "               'id': i,\n",
    "               'answers': [{'text': ' ', 'answer_start': 0}],\n",
    "               'is_impossible': False}],\n",
    "              'context': c\n",
    "            })\n",
    "        \n",
    "    prediction = model.predict(f_data)\n",
    "    if debug:\n",
    "        print(prediction)\n",
    "    preds = [x['answer'].lower().strip() for x in prediction if x['answer'].strip() != '']\n",
    "    \n",
    "    return max(set(preds), key = preds.count)"
   ]
  },
  {
   "cell_type": "code",
   "execution_count": 30,
   "metadata": {},
   "outputs": [],
   "source": [
    "def q_to_a(model, question, n=2, debug=False):\n",
    "    context = query_to_text(question, n=n)\n",
    "    pred = predict_answer(model, question, context, debug=debug)\n",
    "    return pred"
   ]
  },
  {
   "cell_type": "code",
   "execution_count": 38,
   "metadata": {},
   "outputs": [],
   "source": [
    "# Example\n",
    "\n",
    "# model = create_model()\n",
    "\n",
    "# print(predict_answer(model, 'what color is the bird?', 'the bird is red.'))\n",
    "\n",
    "question = 'What color is blood?'\n",
    "links = list(search(question, num_results=2))\n",
    "#context = query_to_text(question, n=3)\n",
    "#pred = predict_answer(model, question, context)\n",
    "#print(pred)"
   ]
  },
  {
   "cell_type": "code",
   "execution_count": 39,
   "metadata": {},
   "outputs": [
    {
     "data": {
      "text/plain": [
       "['https://www.npr.org/sections/13.7/2017/02/03/513003105/why-do-many-think-human-blood-is-sometimes-blue',\n",
       " 'https://www.medicalnewstoday.com/articles/321442']"
      ]
     },
     "execution_count": 39,
     "metadata": {},
     "output_type": "execute_result"
    }
   ],
   "source": [
    "links"
   ]
  },
  {
   "cell_type": "code",
   "execution_count": 40,
   "metadata": {},
   "outputs": [],
   "source": [
    "model = create_model()"
   ]
  },
  {
   "cell_type": "code",
   "execution_count": 41,
   "metadata": {},
   "outputs": [
    {
     "data": {
      "application/vnd.jupyter.widget-view+json": {
       "model_id": "7396623e88d244b7aaf90787487a6d1a",
       "version_major": 2,
       "version_minor": 0
      },
      "text/plain": [
       "Text(value='', description='Question:')"
      ]
     },
     "metadata": {},
     "output_type": "display_data"
    },
    {
     "data": {
      "application/vnd.jupyter.widget-view+json": {
       "model_id": "d60741861bbb4853a53f9796e0c61d18",
       "version_major": 2,
       "version_minor": 0
      },
      "text/plain": [
       "Button(description='Get an Answer', style=ButtonStyle())"
      ]
     },
     "metadata": {},
     "output_type": "display_data"
    }
   ],
   "source": [
    "text = widgets.Text(description='Question:', width=300)\n",
    "display(text)\n",
    "\n",
    "button = widgets.Button(description='Get an Answer')\n",
    "display(button)\n",
    "\n",
    "def on_button_click(b):\n",
    "    answer = q_to_a(model, text.value, n=2)\n",
    "    print('Answer:', answer)\n",
    "    \n",
    "button.on_click(on_button_click)"
   ]
  },
  {
   "cell_type": "code",
   "execution_count": 35,
   "metadata": {},
   "outputs": [
    {
     "ename": "TypeError",
     "evalue": "search() got an unexpected keyword argument 'stop'",
     "output_type": "error",
     "traceback": [
      "\u001b[0;31m---------------------------------------------------------------------------\u001b[0m",
      "\u001b[0;31mTypeError\u001b[0m                                 Traceback (most recent call last)",
      "\u001b[0;32m<ipython-input-35-08cc2714b166>\u001b[0m in \u001b[0;36m<module>\u001b[0;34m\u001b[0m\n\u001b[1;32m      6\u001b[0m \u001b[0;34m\u001b[0m\u001b[0m\n\u001b[1;32m      7\u001b[0m \u001b[0mquestion\u001b[0m \u001b[0;34m=\u001b[0m \u001b[0;34m'What color is blood?'\u001b[0m\u001b[0;34m\u001b[0m\u001b[0;34m\u001b[0m\u001b[0m\n\u001b[0;32m----> 8\u001b[0;31m \u001b[0mlinks\u001b[0m \u001b[0;34m=\u001b[0m \u001b[0mlist\u001b[0m\u001b[0;34m(\u001b[0m\u001b[0msearch\u001b[0m\u001b[0;34m(\u001b[0m\u001b[0mquestion\u001b[0m\u001b[0;34m,\u001b[0m \u001b[0mstop\u001b[0m\u001b[0;34m=\u001b[0m\u001b[0;36m2\u001b[0m\u001b[0;34m)\u001b[0m\u001b[0;34m)\u001b[0m\u001b[0;34m\u001b[0m\u001b[0;34m\u001b[0m\u001b[0m\n\u001b[0m\u001b[1;32m      9\u001b[0m \u001b[0mcontext\u001b[0m \u001b[0;34m=\u001b[0m \u001b[0mquery_to_text\u001b[0m\u001b[0;34m(\u001b[0m\u001b[0mquestion\u001b[0m\u001b[0;34m,\u001b[0m \u001b[0mn\u001b[0m\u001b[0;34m=\u001b[0m\u001b[0;36m3\u001b[0m\u001b[0;34m)\u001b[0m\u001b[0;34m\u001b[0m\u001b[0;34m\u001b[0m\u001b[0m\n\u001b[1;32m     10\u001b[0m \u001b[0mpred\u001b[0m \u001b[0;34m=\u001b[0m \u001b[0mpredict_answer\u001b[0m\u001b[0;34m(\u001b[0m\u001b[0mmodel\u001b[0m\u001b[0;34m,\u001b[0m \u001b[0mquestion\u001b[0m\u001b[0;34m,\u001b[0m \u001b[0mcontext\u001b[0m\u001b[0;34m)\u001b[0m\u001b[0;34m\u001b[0m\u001b[0;34m\u001b[0m\u001b[0m\n",
      "\u001b[0;31mTypeError\u001b[0m: search() got an unexpected keyword argument 'stop'"
     ]
    }
   ],
   "source": []
  },
  {
   "cell_type": "code",
   "execution_count": null,
   "metadata": {},
   "outputs": [],
   "source": []
  }
 ],
 "metadata": {
  "kernelspec": {
   "display_name": "Python 3",
   "language": "python",
   "name": "python3"
  },
  "language_info": {
   "codemirror_mode": {
    "name": "ipython",
    "version": 3
   },
   "file_extension": ".py",
   "mimetype": "text/x-python",
   "name": "python",
   "nbconvert_exporter": "python",
   "pygments_lexer": "ipython3",
   "version": "3.6.13"
  }
 },
 "nbformat": 4,
 "nbformat_minor": 4
}
